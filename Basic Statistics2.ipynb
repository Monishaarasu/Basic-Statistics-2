{
 "cells": [
  {
   "cell_type": "markdown",
   "id": "e6abdc0d",
   "metadata": {},
   "source": [
    "## A. Build 99% Confidence Interval Using Sample Standard Deviation"
   ]
  },
  {
   "cell_type": "markdown",
   "id": "9caefd44",
   "metadata": {},
   "source": [
    "### Assuming the sample is representative of the population, construct a 99% confidence interval for the mean number of characters printed before the print-head fails using the sample standard deviation. Explain the steps you take and the rationale behind using the t-distribution for this task.\n"
   ]
  },
  {
   "cell_type": "code",
   "execution_count": 1,
   "id": "abb95f31",
   "metadata": {},
   "outputs": [],
   "source": [
    "# given data\n",
    "# n = 15\n",
    "# Confidence Interval=0.99 ,alpha = 0.1 and alpha/2 = 0.005\n",
    "# sample_data= [1.13,1.55,1.43,0.92,1.25,1.36,1.32,0.85,1.07,1.48,1.20,1.33,1.18,1.22,1.29]\n",
    "# Since the population standard deviation is not known we can proceed with t-test."
   ]
  },
  {
   "cell_type": "markdown",
   "id": "d793d049",
   "metadata": {},
   "source": [
    "#### Step1 :To find the sample mean with the sample_data given. "
   ]
  },
  {
   "cell_type": "code",
   "execution_count": 2,
   "id": "1893c1ff",
   "metadata": {},
   "outputs": [],
   "source": [
    "import pandas as pd\n",
    "import numpy as np\n",
    "import scipy.stats as stats"
   ]
  },
  {
   "cell_type": "code",
   "execution_count": 3,
   "id": "f0ef1c50",
   "metadata": {},
   "outputs": [],
   "source": [
    "sample_data= [1.13,1.55,1.43,0.92,1.25,1.36,1.32,0.85,1.07,1.48,1.20,1.33,1.18,1.22,1.29]"
   ]
  },
  {
   "cell_type": "code",
   "execution_count": 5,
   "id": "f9dc2beb",
   "metadata": {},
   "outputs": [],
   "source": [
    "df={'sample_data': [1.13,1.55,1.43,0.92,1.25,1.36,1.32,0.85,1.07,1.48,1.20,1.33,1.18,1.22,1.29]}"
   ]
  },
  {
   "cell_type": "code",
   "execution_count": 9,
   "id": "0781fcef",
   "metadata": {},
   "outputs": [
    {
     "data": {
      "text/plain": [
       "1.2386666666666666"
      ]
     },
     "execution_count": 9,
     "metadata": {},
     "output_type": "execute_result"
    }
   ],
   "source": [
    "df['sample_data'].mean()"
   ]
  },
  {
   "cell_type": "markdown",
   "id": "15c18c71",
   "metadata": {},
   "source": [
    "#### Step2 :To find the sample standard deviation with the sample_data and sample_mean given"
   ]
  },
  {
   "cell_type": "code",
   "execution_count": 10,
   "id": "883e65b4",
   "metadata": {},
   "outputs": [
    {
     "data": {
      "text/plain": [
       "0.037312380952380965"
      ]
     },
     "execution_count": 10,
     "metadata": {},
     "output_type": "execute_result"
    }
   ],
   "source": [
    "df['sample_data'].var()"
   ]
  },
  {
   "cell_type": "code",
   "execution_count": 6,
   "id": "697e419a",
   "metadata": {},
   "outputs": [],
   "source": [
    "df = pd.DataFrame(df)"
   ]
  },
  {
   "cell_type": "code",
   "execution_count": 7,
   "id": "11280057",
   "metadata": {},
   "outputs": [
    {
     "data": {
      "text/plain": [
       "0.19316412956959936"
      ]
     },
     "execution_count": 7,
     "metadata": {},
     "output_type": "execute_result"
    }
   ],
   "source": [
    "df['sample_data'].std()"
   ]
  },
  {
   "cell_type": "markdown",
   "id": "9fa2aa49",
   "metadata": {},
   "source": [
    "####  Step3 :Finding t corresponding to C and df¶"
   ]
  },
  {
   "cell_type": "code",
   "execution_count": 11,
   "id": "4e30c66f",
   "metadata": {},
   "outputs": [
    {
     "data": {
      "text/plain": [
       "-2.9768427341126604"
      ]
     },
     "execution_count": 11,
     "metadata": {},
     "output_type": "execute_result"
    }
   ],
   "source": [
    "stats.t.ppf(0.005, df=14)"
   ]
  },
  {
   "cell_type": "markdown",
   "id": "72eac8ba",
   "metadata": {},
   "source": [
    "#### Step 4: Finding Confidence Interval"
   ]
  },
  {
   "cell_type": "code",
   "execution_count": 13,
   "id": "7c53c6a7",
   "metadata": {},
   "outputs": [
    {
     "data": {
      "text/plain": [
       "(1.0895799628934502, 1.3864200371065498)"
      ]
     },
     "execution_count": 13,
     "metadata": {},
     "output_type": "execute_result"
    }
   ],
   "source": [
    "confint = stats.t.interval(0.99,df=14,loc=1.238, scale = 0.1931/np.sqrt(15))\n",
    "confint"
   ]
  },
  {
   "cell_type": "code",
   "execution_count": 15,
   "id": "c08f1219",
   "metadata": {},
   "outputs": [],
   "source": [
    "# Therefore lower mean =1.0895799628934502,  and upper mean = 1.3864200371065498"
   ]
  },
  {
   "cell_type": "markdown",
   "id": "e6092ea5",
   "metadata": {},
   "source": [
    "## B. Build 99% Confidence Interval Using Known Population Standard Deviation If it were known that the population standard deviation is 0.2 million characters, construct a 99% confidence interval for the mean number of characters printed before failure."
   ]
  },
  {
   "cell_type": "code",
   "execution_count": 16,
   "id": "7b0b3fa7",
   "metadata": {},
   "outputs": [],
   "source": [
    "# given data\n",
    "# Population standard deviation=0.2\n",
    "# n = 15\n",
    "# Confidence Interval=0.99 ,alpha = 0.1 and alpha/2 = 0.005\n",
    "# sample_data= [1.13,1.55,1.43,0.92,1.25,1.36,1.32,0.85,1.07,1.48,1.20,1.33,1.18,1.22,1.29]\n",
    "# Since the Population standard deviation is known we can go for z-test."
   ]
  },
  {
   "cell_type": "markdown",
   "id": "64bc40e2",
   "metadata": {},
   "source": [
    "### Find Z corresponding to C"
   ]
  },
  {
   "cell_type": "code",
   "execution_count": 17,
   "id": "2118a44f",
   "metadata": {},
   "outputs": [
    {
     "data": {
      "text/plain": [
       "-2.575829303548901"
      ]
     },
     "execution_count": 17,
     "metadata": {},
     "output_type": "execute_result"
    }
   ],
   "source": [
    "stats.norm.ppf(0.005)"
   ]
  },
  {
   "cell_type": "markdown",
   "id": "894d31e6",
   "metadata": {},
   "source": [
    "### Finding confidence Interval"
   ]
  },
  {
   "cell_type": "code",
   "execution_count": 18,
   "id": "fa168e7c",
   "metadata": {},
   "outputs": [
    {
     "data": {
      "text/plain": [
       "(1.104984746729094, 1.371015253270906)"
      ]
     },
     "execution_count": 18,
     "metadata": {},
     "output_type": "execute_result"
    }
   ],
   "source": [
    "confint1 = stats.norm.interval(0.99,loc=1.238, scale = 0.2/np.sqrt(15))\n",
    "confint1"
   ]
  },
  {
   "cell_type": "code",
   "execution_count": 19,
   "id": "3bc456f3",
   "metadata": {},
   "outputs": [],
   "source": [
    "# Therefore lower mean = 1.104984746729094 and upper mean = 1.371015253270906"
   ]
  }
 ],
 "metadata": {
  "kernelspec": {
   "display_name": "Python 3 (ipykernel)",
   "language": "python",
   "name": "python3"
  },
  "language_info": {
   "codemirror_mode": {
    "name": "ipython",
    "version": 3
   },
   "file_extension": ".py",
   "mimetype": "text/x-python",
   "name": "python",
   "nbconvert_exporter": "python",
   "pygments_lexer": "ipython3",
   "version": "3.9.12"
  }
 },
 "nbformat": 4,
 "nbformat_minor": 5
}
